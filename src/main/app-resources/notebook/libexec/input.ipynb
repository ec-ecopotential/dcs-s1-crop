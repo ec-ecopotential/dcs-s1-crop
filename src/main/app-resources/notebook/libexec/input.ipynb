{
 "cells": [
  {
   "cell_type": "code",
   "execution_count": 1,
   "metadata": {
    "collapsed": false
   },
   "outputs": [],
   "source": [
    "service = dict([('title', 'S1 data selection'),\n",
    "                ('abstract', 'Sentinel-1 data selection'),\n",
    "                ('id', 's1_crop')])"
   ]
  },
  {
   "cell_type": "code",
   "execution_count": 2,
   "metadata": {
    "collapsed": true
   },
   "outputs": [],
   "source": [
    "base_endpoint = dict([('id', 'base_endpoint'),\n",
    "              ('value', 'https://catalog.terradue.com/sentinel1/series/SLC_GRDH/search'),\n",
    "              ('title', 'catalogue base URL'),\n",
    "              ('abstract', 'base URL of the catalogue')])"
   ]
  },
  {
   "cell_type": "code",
   "execution_count": 3,
   "metadata": {
    "collapsed": true
   },
   "outputs": [],
   "source": [
    "start = dict([('id', 'start'),\n",
    "              ('value', '2018-06-08T00:00:00Z'),\n",
    "              ('title', 'start date for dataset selection'),\n",
    "              ('abstract', 'start date for dataset selection')])"
   ]
  },
  {
   "cell_type": "code",
   "execution_count": 4,
   "metadata": {
    "collapsed": true
   },
   "outputs": [],
   "source": [
    "stop = dict([('id', 'stop'),\n",
    "            ('value', '2018-06-08T23:59:59Z'),\n",
    "            ('title', 'stop date for dataset selection'),\n",
    "            ('abstract', 'stop date for dataset selection')])"
   ]
  },
  {
   "cell_type": "code",
   "execution_count": 5,
   "metadata": {
    "collapsed": true
   },
   "outputs": [],
   "source": [
    "search_type = dict([('id', 'time_filter_type'),\n",
    "            ('value', 'date'),\n",
    "            ('title', 'search time filter type'),\n",
    "            ('abstract', 'search time filter type for dataset selection (date|update)')])"
   ]
  },
  {
   "cell_type": "code",
   "execution_count": 6,
   "metadata": {
    "collapsed": true
   },
   "outputs": [],
   "source": [
    "cat_index = dict([('id', 'cat_index'),\n",
    "              ('value', 'ecop-cnr-issia'),\n",
    "              ('title', 'publishing catalog index'),\n",
    "              ('abstract', 'publishing catalog index')])"
   ]
  },
  {
   "cell_type": "code",
   "execution_count": 7,
   "metadata": {
    "collapsed": true
   },
   "outputs": [],
   "source": [
    "config_url = dict([('id', 'config_url'),\n",
    "                   ('value', 'https://store.terradue.com/ec-ecopotential/config/config.ini'),\n",
    "                   ('title', 'FTP configuration file URL'),\n",
    "                   ('abstract', 'FTP configuration file URL')])"
   ]
  },
  {
   "cell_type": "code",
   "execution_count": 8,
   "metadata": {
    "collapsed": true
   },
   "outputs": [],
   "source": [
    "username = dict([('id', 'username'),\n",
    "                 ('value', 'ecop-cnr-issia'),\n",
    "                 ('title', 'username for DA access'),\n",
    "                 ('abstract', 'username for DA access')])"
   ]
  },
  {
   "cell_type": "code",
   "execution_count": 9,
   "metadata": {
    "collapsed": true
   },
   "outputs": [],
   "source": [
    "api_key  = dict([('id', 'api_key'),\n",
    "                 ('value', 'AKCp5aUjBi3JvjztBDdqPMMjM9beDhtcMLjGsn5axpviB3rAndimLeqfK3bTqUJsR2MtAkjiY'),\n",
    "                 ('title', 'apikey for DA access'),\n",
    "                 ('abstract', 'apikey for DA access')])"
   ]
  },
  {
   "cell_type": "code",
   "execution_count": 10,
   "metadata": {
    "collapsed": true
   },
   "outputs": [],
   "source": [
    "data_path = '/workspace/data'"
   ]
  },
  {
   "cell_type": "code",
   "execution_count": 11,
   "metadata": {
    "collapsed": false
   },
   "outputs": [],
   "source": [
    "input_reference = \"donana\""
   ]
  },
  {
   "cell_type": "code",
   "execution_count": 27,
   "metadata": {
    "collapsed": true
   },
   "outputs": [],
   "source": [
    "#input_identifier = 'S1A_IW_SLC__1SDV_20180503T182621_20180503T182648_021744_025843_8690'\n",
    "#input_identifier = 'S1A_IW_SLC__1SDV_20180608T182623_20180608T182650_022269_0268EB_AB32'\n",
    "input_identifier = 'S1A_IW_GRDH_1SDV_20180621T062707_20180621T062732_022451_026E72_CDDD'"
   ]
  },
  {
   "cell_type": "code",
   "execution_count": 28,
   "metadata": {
    "collapsed": true
   },
   "outputs": [],
   "source": [
    "#input_identifier_wkt = 'POLYGON((-8.535965 37.180996,-5.694044 37.580723,-5.365185 35.960056,-8.145734 35.558769,-8.535965 37.180996))'\n",
    "#input_identifier_wkt = 'POLYGON((-8.536756 37.18034,-5.697594 37.579758,-5.368666 35.959213,-8.146519 35.558239,-8.536756 37.18034))'\n",
    "input_identifier_wkt='POLYGON((-4.809574 35.99057,-7.706526 36.404522,-7.403009 37.906551,-4.448186 37.494438,-4.809574 35.99057))'"
   ]
  },
  {
   "cell_type": "code",
   "execution_count": 29,
   "metadata": {
    "collapsed": true
   },
   "outputs": [],
   "source": [
    "input_pa_name = 'Donana'"
   ]
  },
  {
   "cell_type": "code",
   "execution_count": 30,
   "metadata": {
    "collapsed": true
   },
   "outputs": [],
   "source": [
    "input_ftp_server_address = 'sftp://frontend.recas.ba.infn.it/lustre/ecopotential/incoming/PAs'"
   ]
  },
  {
   "cell_type": "code",
   "execution_count": 31,
   "metadata": {
    "collapsed": false
   },
   "outputs": [],
   "source": [
    "import os\n",
    "import shutil\n",
    "import numpy as np\n",
    "import matplotlib\n",
    "import matplotlib.pyplot as plt\n",
    "import snappy\n",
    "import dateutil.parser as parser\n",
    "from datetime import datetime\n",
    "\n",
    "from os.path import basename\n",
    "import osr\n",
    "import warnings\n",
    "warnings.filterwarnings(\"ignore\")\n",
    "from contextlib import closing\n",
    "from zipfile import ZipFile, ZIP_DEFLATED\n",
    "import zipfile\n",
    "import sys\n",
    "\n",
    "#sys.path.append('/application/notebook/libexec/')\n",
    "sys.path.append('/workspace/dcs-s1-crop/src/main/app-resources/notebook/libexec/')\n",
    "sys.path.append(os.getcwd())\n",
    "import ISOMetadata\n",
    "\n",
    "from shapely.wkt import loads"
   ]
  },
  {
   "cell_type": "code",
   "execution_count": 32,
   "metadata": {
    "collapsed": true
   },
   "outputs": [],
   "source": [
    "def unzip(source_filename, dest_dir):\n",
    "    with zipfile.ZipFile(source_filename) as zf:\n",
    "        zf.extractall(dest_dir)"
   ]
  },
  {
   "cell_type": "code",
   "execution_count": null,
   "metadata": {
    "collapsed": false
   },
   "outputs": [],
   "source": [
    "unzip('%s/%s.zip' % (data_path,input_identifier), '%s/%s' % (data_path,input_identifier))"
   ]
  },
  {
   "cell_type": "code",
   "execution_count": null,
   "metadata": {
    "collapsed": true
   },
   "outputs": [],
   "source": [
    "def get_MODE_from_name():\n",
    "    return input_identifier.split('_')[1]"
   ]
  },
  {
   "cell_type": "code",
   "execution_count": null,
   "metadata": {
    "collapsed": true
   },
   "outputs": [],
   "source": [
    "def get_pt_from_name():\n",
    "    return input_identifier.split('_')[2]"
   ]
  },
  {
   "cell_type": "code",
   "execution_count": null,
   "metadata": {
    "collapsed": true
   },
   "outputs": [],
   "source": [
    "spatial_res = dict()\n",
    "pixel_spacing = dict()\n",
    "\n",
    "spatial_res['SLC'] = dict()\n",
    "spatial_res['GRDM'] = dict()\n",
    "spatial_res['GRDH'] = dict()\n",
    "\n",
    "#spatial_res['SLC'] = {'SM':'1.7x4.3 m to 3.6x4.9 m', 'IW':'2.7x22 m to 3.5x22 m','EW':'7.9x43 m to 15x43 m','WV':'2.0x4.8 m and 3.1x4.8 m'}\n",
    "spatial_res['SLC'] = {'SM':{'a':['1.7','3.6'],'r':['4.3','4.9']}, 'IW':{'a':['2.7','3.5'],'r':['22','22 m']},'EW':{'a':['7.9','15'],'r':['43','43']},'WV':{'a':['2.0','3.1'],'r':['4.8','4.8']}}\n",
    "\n",
    "#spatial_res=['GRDM'] = {'SM':'84x84', 'IW':'88x87','EW':'93x87','WV':'52x51'}\n",
    "spatial_res['GRDM'] = {'SM':{'a':['84'],'r':['84']}, 'IW':{'a':['88'],'r':['87']},'EW':{'a':['93'],'r':['87']},'WV':{'a':['52'],'r':['51']}}\n",
    "\n",
    "#spatial_res=['GRDH'] = {'SM':'23x23', 'IW':'20x22','EW':'50x50'}\n",
    "spatial_res['GRDH'] = {'SM':{'a':['23'],'r':['23']}, 'IW':{'a':['20'],'r':['22']},'EW':{'a':['50'],'r':['50']}}\n",
    "\n",
    "pixel_spacing['SLC'] = dict()\n",
    "pixel_spacing['GRDM'] = dict()\n",
    "pixel_spacing['GRDH'] = dict()\n",
    "\n",
    "pixel_spacing['SLC']= {'SM':{'a':['1.5','3.1'],'r':['3.6','4.1']}, 'IW':{'a':['2.3'],'r':['14.1']},'EW':{'a':['5.9'],'r':['19.9']},'WV':{'a':['1.7','2.7'],'r':['4.1','4.1']}}\n",
    "#pixel_spacing['SLC']= {'SM':['1.5','3.1']?['3.6','4.1'], 'IW':['2.3']?['14.1'],'EW':['5.9']?['19.9'],'WV':['1.7','2.7']?['4.1','4.1']}\n",
    "pixel_spacing['GRDM'] = {'SM':{'a':['40'],'r':['40']}, 'IW':{'a':['40'],'r':['40']},'EW':{'a':['40'],'r':['40']},'WV':{'a':['25'],'r':['25']}}\n",
    "#pixel_spacing['GRDM'] = {'SM':['40'], 'IW':['40'],'EW':['40'],'WV':['25']}\n",
    "pixel_spacing['GRDH'] = {'SM':{'a':['10'],'r':['10']}, 'IW':{'a':['10'],'r':['10']},'EW':{'a':['25'],'r':['25']}}\n",
    "#pixel_spacing['GRDH'] = {'SM':['10'], 'IW':['10'],'EW':['25']}\n"
   ]
  },
  {
   "cell_type": "code",
   "execution_count": 33,
   "metadata": {
    "collapsed": false
   },
   "outputs": [
    {
     "name": "stdout",
     "output_type": "stream",
     "text": [
      "  band name:     Amplitude_VH\n",
      "  band name:     Intensity_VH\n",
      "  band name:     Amplitude_VV\n",
      "  band name:     Intensity_VV\n"
     ]
    }
   ],
   "source": [
    "s1prd = \"%s/%s/%s.SAFE/manifest.safe\" % (data_path, input_identifier, input_identifier)\n",
    "product = snappy.ProductIO.readProduct(s1prd)\n",
    "\n",
    "width = product.getSceneRasterWidth()\n",
    "height = product.getSceneRasterHeight()\n",
    "prod_type = product.getProductType()\n",
    "name = product.getName()\n",
    "description = product.getDescription()\n",
    "band_names = product.getBandNames()\n",
    "\n",
    "#prod_type = get_pt_from_name()\n",
    "#prod_mode = get_MODE_from_name()\n",
    "#print prod_mode\n",
    "#print prod_type\n",
    "#print pixel_spacing[prod_type][prod_mode]\n"
   ]
  },
  {
   "cell_type": "code",
   "execution_count": 34,
   "metadata": {
    "collapsed": false
   },
   "outputs": [
    {
     "name": "stdout",
     "output_type": "stream",
     "text": [
      "ftp_remote_path:  sftp://frontend.recas.ba.infn.it/lustre/ecopotential/incoming/PAs/Donana/EO_Data/Sentinel1/Raw/2018/06/21\n",
      "download_URL:  sftp://frontend.recas.ba.infn.it/lustre/ecopotential/incoming/PAs/Donana/EO_Data/Sentinel1/Raw/2018/06/21/S1A_IW_GRDH_1SDV_20180621T062707_20180621T062732_022451_026E72_CDDD.zip\n"
     ]
    }
   ],
   "source": [
    "product_date = parser.parse(product.getStartTime().toString()).date()\n",
    "START_DATE = '%sZ' %parser.parse(product.getStartTime().toString()).isoformat()\n",
    "END_DATE = '%sZ' %parser.parse(product.getEndTime().toString()).isoformat()\n",
    "\n",
    "now = datetime.now()\n",
    "\n",
    "metadata_date = now.strftime(\"%Y-%m-%d\")\n",
    "metadata_year = now.strftime(\"%Y\")\n",
    "\n",
    "creation_date = START_DATE\n",
    "\n",
    "date_path = '%s/%02d/%02d' % (product_date.year, product_date.month, product_date.day)\n",
    "    \n",
    "middle_path = '%s/EO_Data/Sentinel1/Raw'%input_pa_name\n",
    "        \n",
    "ftp_remote_path = os.path.join(input_ftp_server_address, os.path.join(middle_path,date_path))\n",
    "output_name = name+'.zip'\n",
    "download_URL = '%s/%s' %(ftp_remote_path, output_name)\n",
    "\n",
    "\n",
    "print 'ftp_remote_path: ',ftp_remote_path\n",
    "print 'download_URL: ',download_URL\n",
    "\n",
    "####################################################################\n",
    "#start_Date = parser.parse(product.getStartTime().toString()).date()\n",
    "\n",
    "#end_Date = parser.parse(product.getEndTime().toString()).date()\n",
    "\n",
    "#now = datetime.now()\n",
    "\n",
    "#metadata_date = now.strftime(\"%Y-%m-%d\")\n",
    "#creation_date = start_Date\n"
   ]
  },
  {
   "cell_type": "code",
   "execution_count": 35,
   "metadata": {
    "collapsed": true
   },
   "outputs": [],
   "source": [
    "def set_dates():\n",
    "    \n",
    "    iso_metadata.set_start_date(START_DATE)\n",
    "    iso_metadata.set_end_date(END_DATE)"
   ]
  },
  {
   "cell_type": "code",
   "execution_count": 36,
   "metadata": {
    "collapsed": true
   },
   "outputs": [],
   "source": [
    "def set_info(short_name, title, abstract):\n",
    "    \n",
    "    iso_metadata.set_identifier(short_name)\n",
    "    iso_metadata.set_title(title)\n",
    "    iso_metadata.set_abstract(abstract)"
   ]
  },
  {
   "cell_type": "code",
   "execution_count": 37,
   "metadata": {
    "collapsed": true
   },
   "outputs": [],
   "source": [
    "def set_geo(band_name,wkt):\n",
    "    \n",
    "    sp_i = dict()\n",
    "    #ds = gdal.Open(geotiff)\n",
    "\n",
    "    band = product.getBand(band_name)\n",
    "    \n",
    "    sp_i['dims'] = str(band.getDataElemSize())\n",
    "    print 'band %s - dims %s' %(band_name,sp_i['dims'])\n",
    "    col_size = band.getRasterWidth()\n",
    "    row_size = band.getRasterHeight()\n",
    "    \n",
    "    iso_metadata.set_col_size(str(col_size))\n",
    "    iso_metadata.set_row_size(str(row_size))\n",
    "    \n",
    "    sp_i['col_size'] = str(col_size)\n",
    "    sp_i['row_size'] = str(row_size)\n",
    "    \n",
    "    polygon = loads(wkt)\n",
    "    \n",
    "    #min_x,min_y,max_x,max_y = polygon.bounds\n",
    "    \n",
    "    lr_x,lr_y,ul_x,ul_y = polygon.bounds\n",
    "    \n",
    "    nw_corner = '%s %s' % (str(ul_x), str(ul_y))\n",
    "    se_corner = '%s %s' % (str(lr_x), str(lr_y))\n",
    "    \n",
    "    sp_i['nw_corner'] = nw_corner\n",
    "\n",
    "    \n",
    "    sp_i['se_corner'] = se_corner\n",
    "    \n",
    "    iso_metadata.set_se_corner(se_corner)\n",
    "    \n",
    "    # adding single band spatial info to the global spatial info dict for the general ISOmetadata\n",
    "    spatial_info[band_name] = sp_i"
   ]
  },
  {
   "cell_type": "code",
   "execution_count": 38,
   "metadata": {
    "collapsed": true
   },
   "outputs": [],
   "source": [
    "def get_minmax_lonlat(wkt):\n",
    "       \n",
    "    \n",
    "    #POLYGON((-26.4804 33.505,-26.7143 32.3182,-24.1248 32.0496,-23.8554 33.2363,-26.4804 33.505))\n",
    "    polygon = loads(wkt)\n",
    "    \n",
    "    min_x,min_y,max_x,max_y = polygon.bounds\n",
    "    \n",
    "    return (min_x,min_y,max_x,max_y)"
   ]
  },
  {
   "cell_type": "code",
   "execution_count": 39,
   "metadata": {
    "collapsed": false
   },
   "outputs": [
    {
     "name": "stdout",
     "output_type": "stream",
     "text": [
      "setting:  CNR\n",
      "setting:  CNR\n",
      "setting:  info@terradue.com\n",
      "setting:  info@terradue.com\n",
      "setting:  2018-09-18\n",
      "setting:  2018-06-21T06:27:07.575901Z\n",
      "setting:  SAFE\n",
      "setting:  CInt16\n",
      "setting:  CNR\n",
      "setting:  sftp://frontend.recas.ba.infn.it/lustre/ecopotential/incoming/PAs/Donana/EO_Data/Sentinel1/Raw/2018/06/21/S1A_IW_GRDH_1SDV_20180621T062707_20180621T062732_022451_026E72_CDDD.zip\n",
      "setting:  Area covering Donana PA\n",
      "Terradue [2018], Copernicus Sentinel data [2018]. This work has received funding from the European Union's Horizon 2020 research and innovation programme under grant agreement No 641762 (ECOPOTENTIAL: improving future ecosystem benefits through earth observations)\n",
      "setting:  Terradue [2018], Copernicus Sentinel data [2018]. This work has received funding from the European Union's Horizon 2020 research and innovation programme under grant agreement No 641762 (ECOPOTENTIAL: improving future ecosystem benefits through earth observations)\n"
     ]
    }
   ],
   "source": [
    "iso_metadata = ISOMetadata.ISOMetadata()\n",
    "iso_metadata.set_organisation('CNR')\n",
    "iso_metadata.set_contact('info@terradue.com')\n",
    "iso_metadata.set_date(metadata_date)\n",
    "iso_metadata.set_creation_date(creation_date)\n",
    "iso_metadata.set_data_format('SAFE')\n",
    "iso_metadata.set_data_type('CInt16')\n",
    "iso_metadata.set_responsible_party('CNR')\n",
    "iso_metadata.set_onlineResource(download_URL)\n",
    "iso_metadata.set_pa('Area covering %s PA' %input_pa_name)\n",
    "\n",
    "lineage_template = 'Terradue [%s], Copernicus Sentinel data [%s]. \\\n",
    "This work has received funding from the European Union\\'s Horizon 2020 research and innovation programme \\\n",
    "under grant agreement No 641762 (ECOPOTENTIAL: improving future ecosystem benefits through earth observations)'\n",
    "lineage_str = lineage_template %(str(metadata_year), str(product_date.year))\n",
    "#print lineage_str\n",
    "iso_metadata.set_lineage_template(lineage_str)"
   ]
  },
  {
   "cell_type": "markdown",
   "metadata": {},
   "source": [
    "### Writing General XML"
   ]
  },
  {
   "cell_type": "code",
   "execution_count": 40,
   "metadata": {
    "collapsed": false
   },
   "outputs": [
    {
     "name": "stdout",
     "output_type": "stream",
     "text": [
      "setting:  2018-06-21T06:27:07.575901Z\n",
      "setting:  2018-06-21T06:27:32.573875Z\n",
      "setting:  S1A_IW_GRDH_1SDV_20180621T062707_20180621T062732_022451_026E72_CDDD\n",
      "setting:  S1A_IW_GRDH_1SDV_20180621T062707_20180621T062732_022451_026E72_CDDD\n",
      "setting:  Sentinel-1 SAR Standard L1 GRD Product S1A_IW_GRDH_1SDV_20180621T062707_20180621T062732_022451_026E72_CDDD \n",
      "setting:  Sentinel-1 SAR Standard L1 GRD Product covering Donana \n",
      "band Amplitude_VH - dims 4\n",
      "setting:  26457\n",
      "setting:  16685\n",
      "setting:  -8.536756 35.558239\n",
      "band Intensity_VH - dims 4\n",
      "setting:  26457\n",
      "setting:  16685\n",
      "setting:  -8.536756 35.558239\n",
      "band Amplitude_VV - dims 4\n",
      "setting:  26457\n",
      "setting:  16685\n",
      "setting:  -8.536756 35.558239\n",
      "band Intensity_VV - dims 4\n",
      "setting:  26457\n",
      "setting:  16685\n",
      "setting:  -8.536756 35.558239\n",
      "setting:  4\n",
      "setting:  -5.368666 37.579758\n",
      "setting:  -8.536756 35.558239\n",
      "setting:  16685\n",
      "setting:  26457\n",
      "setting:  -8.536756\n",
      "setting:  35.558239\n",
      "setting:  -5.368666\n",
      "setting:  37.579758\n"
     ]
    }
   ],
   "source": [
    "set_dates()\n",
    "    \n",
    "short_name = name\n",
    "title = 'Sentinel-1 SAR Standard L1 %s Product %s ' % (prod_type, name)\n",
    "\n",
    "abstract = 'Sentinel-1 SAR Standard L1 %s Product covering %s ' % (prod_type, input_pa_name)\n",
    "        \n",
    "set_info(short_name, title, abstract)\n",
    "\n",
    "spatial_info = dict()\n",
    "\n",
    "for bname in list(band_names):\n",
    "    set_geo(bname, input_identifier_wkt)\n",
    "\n",
    "\n",
    "#iso_metadata.set_spatial_resolutions(spatial_res[prod_type][prod_mode]['a'?'r'])\n",
    "\n",
    "iso_metadata.set_spatialReprInfo_elems(spatial_info, list(band_names))\n",
    "\n",
    "min_x,min_y,max_x,max_y = get_minmax_lonlat(input_identifier_wkt)\n",
    "\n",
    "iso_metadata.set_min_lon(str(min_x))\n",
    "iso_metadata.set_min_lat(str(min_y))\n",
    "iso_metadata.set_max_lon(str(max_x))\n",
    "iso_metadata.set_max_lat(str(max_y))\n",
    "\n",
    "iso_metadata.write(name + '.xml')\n"
   ]
  },
  {
   "cell_type": "markdown",
   "metadata": {},
   "source": [
    "### Moving the original zip archive into the runtime dir"
   ]
  },
  {
   "cell_type": "code",
   "execution_count": 41,
   "metadata": {
    "collapsed": false
   },
   "outputs": [
    {
     "ename": "IOError",
     "evalue": "[Errno 2] No such file or directory: '/workspace/data/S1A_IW_GRDH_1SDV_20180621T062707_20180621T062732_022451_026E72_CDDD.zip'",
     "output_type": "error",
     "traceback": [
      "\u001b[0;31m\u001b[0m",
      "\u001b[0;31mIOError\u001b[0mTraceback (most recent call last)",
      "\u001b[0;32m<ipython-input-41-a226bcb10186>\u001b[0m in \u001b[0;36m<module>\u001b[0;34m()\u001b[0m\n\u001b[0;32m----> 1\u001b[0;31m \u001b[0mshutil\u001b[0m\u001b[0;34m.\u001b[0m\u001b[0mmove\u001b[0m\u001b[0;34m(\u001b[0m\u001b[0;34m'%s/%s.zip'\u001b[0m \u001b[0;34m%\u001b[0m \u001b[0;34m(\u001b[0m\u001b[0mdata_path\u001b[0m\u001b[0;34m,\u001b[0m\u001b[0minput_identifier\u001b[0m\u001b[0;34m)\u001b[0m\u001b[0;34m,\u001b[0m\u001b[0;34m'./%s.zip'\u001b[0m \u001b[0;34m%\u001b[0m\u001b[0minput_identifier\u001b[0m\u001b[0;34m)\u001b[0m\u001b[0;34m\u001b[0m\u001b[0m\n\u001b[0m",
      "\u001b[0;32m/opt/anaconda/lib/python2.7/shutil.pyc\u001b[0m in \u001b[0;36mmove\u001b[0;34m(src, dst)\u001b[0m\n\u001b[1;32m    300\u001b[0m             \u001b[0mrmtree\u001b[0m\u001b[0;34m(\u001b[0m\u001b[0msrc\u001b[0m\u001b[0;34m)\u001b[0m\u001b[0;34m\u001b[0m\u001b[0m\n\u001b[1;32m    301\u001b[0m         \u001b[0;32melse\u001b[0m\u001b[0;34m:\u001b[0m\u001b[0;34m\u001b[0m\u001b[0m\n\u001b[0;32m--> 302\u001b[0;31m             \u001b[0mcopy2\u001b[0m\u001b[0;34m(\u001b[0m\u001b[0msrc\u001b[0m\u001b[0;34m,\u001b[0m \u001b[0mreal_dst\u001b[0m\u001b[0;34m)\u001b[0m\u001b[0;34m\u001b[0m\u001b[0m\n\u001b[0m\u001b[1;32m    303\u001b[0m             \u001b[0mos\u001b[0m\u001b[0;34m.\u001b[0m\u001b[0munlink\u001b[0m\u001b[0;34m(\u001b[0m\u001b[0msrc\u001b[0m\u001b[0;34m)\u001b[0m\u001b[0;34m\u001b[0m\u001b[0m\n\u001b[1;32m    304\u001b[0m \u001b[0;34m\u001b[0m\u001b[0m\n",
      "\u001b[0;32m/opt/anaconda/lib/python2.7/shutil.pyc\u001b[0m in \u001b[0;36mcopy2\u001b[0;34m(src, dst)\u001b[0m\n\u001b[1;32m    128\u001b[0m     \u001b[0;32mif\u001b[0m \u001b[0mos\u001b[0m\u001b[0;34m.\u001b[0m\u001b[0mpath\u001b[0m\u001b[0;34m.\u001b[0m\u001b[0misdir\u001b[0m\u001b[0;34m(\u001b[0m\u001b[0mdst\u001b[0m\u001b[0;34m)\u001b[0m\u001b[0;34m:\u001b[0m\u001b[0;34m\u001b[0m\u001b[0m\n\u001b[1;32m    129\u001b[0m         \u001b[0mdst\u001b[0m \u001b[0;34m=\u001b[0m \u001b[0mos\u001b[0m\u001b[0;34m.\u001b[0m\u001b[0mpath\u001b[0m\u001b[0;34m.\u001b[0m\u001b[0mjoin\u001b[0m\u001b[0;34m(\u001b[0m\u001b[0mdst\u001b[0m\u001b[0;34m,\u001b[0m \u001b[0mos\u001b[0m\u001b[0;34m.\u001b[0m\u001b[0mpath\u001b[0m\u001b[0;34m.\u001b[0m\u001b[0mbasename\u001b[0m\u001b[0;34m(\u001b[0m\u001b[0msrc\u001b[0m\u001b[0;34m)\u001b[0m\u001b[0;34m)\u001b[0m\u001b[0;34m\u001b[0m\u001b[0m\n\u001b[0;32m--> 130\u001b[0;31m     \u001b[0mcopyfile\u001b[0m\u001b[0;34m(\u001b[0m\u001b[0msrc\u001b[0m\u001b[0;34m,\u001b[0m \u001b[0mdst\u001b[0m\u001b[0;34m)\u001b[0m\u001b[0;34m\u001b[0m\u001b[0m\n\u001b[0m\u001b[1;32m    131\u001b[0m     \u001b[0mcopystat\u001b[0m\u001b[0;34m(\u001b[0m\u001b[0msrc\u001b[0m\u001b[0;34m,\u001b[0m \u001b[0mdst\u001b[0m\u001b[0;34m)\u001b[0m\u001b[0;34m\u001b[0m\u001b[0m\n\u001b[1;32m    132\u001b[0m \u001b[0;34m\u001b[0m\u001b[0m\n",
      "\u001b[0;32m/opt/anaconda/lib/python2.7/shutil.pyc\u001b[0m in \u001b[0;36mcopyfile\u001b[0;34m(src, dst)\u001b[0m\n\u001b[1;32m     80\u001b[0m                 \u001b[0;32mraise\u001b[0m \u001b[0mSpecialFileError\u001b[0m\u001b[0;34m(\u001b[0m\u001b[0;34m\"`%s` is a named pipe\"\u001b[0m \u001b[0;34m%\u001b[0m \u001b[0mfn\u001b[0m\u001b[0;34m)\u001b[0m\u001b[0;34m\u001b[0m\u001b[0m\n\u001b[1;32m     81\u001b[0m \u001b[0;34m\u001b[0m\u001b[0m\n\u001b[0;32m---> 82\u001b[0;31m     \u001b[0;32mwith\u001b[0m \u001b[0mopen\u001b[0m\u001b[0;34m(\u001b[0m\u001b[0msrc\u001b[0m\u001b[0;34m,\u001b[0m \u001b[0;34m'rb'\u001b[0m\u001b[0;34m)\u001b[0m \u001b[0;32mas\u001b[0m \u001b[0mfsrc\u001b[0m\u001b[0;34m:\u001b[0m\u001b[0;34m\u001b[0m\u001b[0m\n\u001b[0m\u001b[1;32m     83\u001b[0m         \u001b[0;32mwith\u001b[0m \u001b[0mopen\u001b[0m\u001b[0;34m(\u001b[0m\u001b[0mdst\u001b[0m\u001b[0;34m,\u001b[0m \u001b[0;34m'wb'\u001b[0m\u001b[0;34m)\u001b[0m \u001b[0;32mas\u001b[0m \u001b[0mfdst\u001b[0m\u001b[0;34m:\u001b[0m\u001b[0;34m\u001b[0m\u001b[0m\n\u001b[1;32m     84\u001b[0m             \u001b[0mcopyfileobj\u001b[0m\u001b[0;34m(\u001b[0m\u001b[0mfsrc\u001b[0m\u001b[0;34m,\u001b[0m \u001b[0mfdst\u001b[0m\u001b[0;34m)\u001b[0m\u001b[0;34m\u001b[0m\u001b[0m\n",
      "\u001b[0;31mIOError\u001b[0m: [Errno 2] No such file or directory: '/workspace/data/S1A_IW_GRDH_1SDV_20180621T062707_20180621T062732_022451_026E72_CDDD.zip'"
     ]
    }
   ],
   "source": [
    "shutil.move('%s/%s.zip' % (data_path,input_identifier),'./%s.zip' %input_identifier)"
   ]
  },
  {
   "cell_type": "code",
   "execution_count": null,
   "metadata": {
    "collapsed": true
   },
   "outputs": [],
   "source": []
  }
 ],
 "metadata": {
  "kernelspec": {
   "display_name": "Python 2",
   "language": "python",
   "name": "python2"
  },
  "language_info": {
   "codemirror_mode": {
    "name": "ipython",
    "version": 2
   },
   "file_extension": ".py",
   "mimetype": "text/x-python",
   "name": "python",
   "nbconvert_exporter": "python",
   "pygments_lexer": "ipython2",
   "version": "2.7.12"
  }
 },
 "nbformat": 4,
 "nbformat_minor": 2
}
