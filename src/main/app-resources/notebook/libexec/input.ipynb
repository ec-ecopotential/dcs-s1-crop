{
 "cells": [
  {
   "cell_type": "code",
   "execution_count": 151,
   "metadata": {
    "collapsed": false
   },
   "outputs": [],
   "source": [
    "service = dict([('title', 'S1 data selection'),\n",
    "                ('abstract', 'Sentinel-1 data selection'),\n",
    "                ('id', 's1_crop')])"
   ]
  },
  {
   "cell_type": "code",
   "execution_count": 152,
   "metadata": {
    "collapsed": true
   },
   "outputs": [],
   "source": [
    "pa_code = dict([('id', 'pa_code'),\n",
    "               ('value', 'DO'),\n",
    "               ('title', 'Protected Area code'),\n",
    "               ('abstract', 'Protected Area code (one of DO,CA,...)')])"
   ]
  },
  {
   "cell_type": "code",
   "execution_count": 153,
   "metadata": {
    "collapsed": true
   },
   "outputs": [],
   "source": [
    "pa_name = dict([('id', 'pa_name'),\n",
    "               ('value', 'Donana'),\n",
    "               ('title', 'Protected Area name'),\n",
    "               ('abstract', 'Protected Area name (one of Donana, Camargue,...)')])"
   ]
  },
  {
   "cell_type": "code",
   "execution_count": 154,
   "metadata": {
    "collapsed": true
   },
   "outputs": [],
   "source": [
    "pa_wkt = dict([('id', 'pa_wkt'),\n",
    "               ('value', 'POLYGON((-6.79440295589744 37.1191319871777,-6.80827154725944 37.1673031942056,-6.72121114356795 37.2425767108835,-6.71042775152577 37.2930498879682,-6.73405462341917 37.3301447063348,-6.71685147187095 37.3522253716156,-6.67435624435345 37.3534492963332,-6.64461873043217 37.3365633914571,-6.62625336367183 37.3569789562915,-6.59581018720718 37.3506994424118,-6.58125246058411 37.3703051383248,-6.492413660497 37.3590379521576,-6.4716624422663 37.3807359777278,-6.43859705183134 37.368908852933,-6.44398095303713 37.347088527492,-6.42200724935979 37.3329929700694,-6.37035012694059 37.3583637388823,-6.33153540861988 37.3329986280188,-6.25703879672152 37.3486795386779,-6.2123425985781 37.3266608721382,-6.1976208676784 37.283024780795,-6.17366048732846 37.2660742144794,-6.15177710683581 37.2667431439207,-6.14475916204647 37.3055642119627,-6.1153577846492 37.3105672777454,-6.04475036124726 37.2771976083931,-6.04063041298302 37.2060457158668,-6.01561413928283 37.1744528799079,-6.03401959555254 37.1582677514823,-6.01528760169561 37.1211642619874,-6.03587498721126 37.0508366627984,-6.08415258431292 37.0557470251154,-6.1443715598251 37.0182321851901,-6.20489081698833 36.9013662293736,-6.24848183495607 36.8846441975983,-6.28133674315331 36.9000390906331,-6.27285487885334 36.8641095189495,-6.21240564569216 36.8569441225281,-6.19273049982008 36.8273222937041,-6.23650318117893 36.7815132843624,-6.25972339425557 36.7794168824025,-6.29452828553456 36.7134050019461,-6.32211152509425 36.693679078589,-6.40354402587554 36.7535989999008,-6.39366914786855 36.7750231637474,-6.42465019950879 36.7928589511795,-6.48913510482893 36.9063367348853,-6.55574132052792 36.9640015939793,-6.54729285159512 36.9812830814621,-6.79440295589744 37.1191319871777))'),\n",
    "               ('title', 'Protected Area wkt'),\n",
    "               ('abstract', 'Protected Area wkt')])"
   ]
  },
  {
   "cell_type": "code",
   "execution_count": 155,
   "metadata": {
    "collapsed": true
   },
   "outputs": [],
   "source": [
    "spatialCover = dict([('id', 'spatialCover'),\n",
    "               ('value', '100'),\n",
    "               ('title', 'Overlap percentage between PA and dataset'),\n",
    "               ('abstract', 'Overlap percentage between PA and dataset')])"
   ]
  },
  {
   "cell_type": "code",
   "execution_count": 156,
   "metadata": {
    "collapsed": true
   },
   "outputs": [],
   "source": [
    "start = dict([('id', 'start'),\n",
    "              ('value', '2018-06-08T00:00:00Z'),\n",
    "              ('title', 'start date for dataset selection'),\n",
    "              ('abstract', 'start date for dataset selection')])"
   ]
  },
  {
   "cell_type": "code",
   "execution_count": 157,
   "metadata": {
    "collapsed": true
   },
   "outputs": [],
   "source": [
    "stop = dict([('id', 'stop'),\n",
    "            ('value', '2018-06-08T23:59:59Z'),\n",
    "            ('title', 'stop date for dataset selection'),\n",
    "            ('abstract', 'stop date for dataset selection')])"
   ]
  },
  {
   "cell_type": "code",
   "execution_count": 158,
   "metadata": {
    "collapsed": true
   },
   "outputs": [],
   "source": [
    "cat_index = dict([('id', 'cat_index'),\n",
    "              ('value', 'ecop-cnr-issia'),\n",
    "              ('title', 'publishing catalog index'),\n",
    "              ('abstract', 'publishing catalog index')])"
   ]
  },
  {
   "cell_type": "code",
   "execution_count": 159,
   "metadata": {
    "collapsed": true
   },
   "outputs": [],
   "source": [
    "config_url = dict([('id', 'config_url'),\n",
    "                   ('value', 'https://store.terradue.com/ec-ecopotential/config/cnr-sftp-config.ini'),\n",
    "                   ('title', 'FTP configuration file URL'),\n",
    "                   ('abstract', 'FTP configuration file URL')])"
   ]
  },
  {
   "cell_type": "code",
   "execution_count": 160,
   "metadata": {
    "collapsed": true
   },
   "outputs": [],
   "source": [
    "username = dict([('id', 'username'),\n",
    "                 ('value', 'ecop-cnr-issia'),\n",
    "                 ('title', 'username for DA access'),\n",
    "                 ('abstract', 'username for DA access')])"
   ]
  },
  {
   "cell_type": "code",
   "execution_count": 161,
   "metadata": {
    "collapsed": true
   },
   "outputs": [],
   "source": [
    "api_key  = dict([('id', 'api_key'),\n",
    "                 ('value', 'AKCp5aUa1sSVSDdky5odFrKbwpyKzrBuZjWvrWbUigaPVNPWL3H6uiLSgEjFWLVdnUz45Ky7x'),\n",
    "                 ('title', 'apikey for DA access'),\n",
    "                 ('abstract', 'apikey for DA access')])"
   ]
  },
  {
   "cell_type": "code",
   "execution_count": 162,
   "metadata": {
    "collapsed": false
   },
   "outputs": [],
   "source": [
    "input_reference = \"https://catalog.terradue.com/sentinel1/series/SLC_GRDH/search?geom=POLYGON((-6.79440295589744%2037.1191319871777%2C-6.80827154725944%2037.1673031942056%2C-6.72121114356795%2037.2425767108835%2C-6.71042775152577%2037.2930498879682%2C-6.73405462341917%2037.3301447063348%2C-6.71685147187095%2037.3522253716156%2C-6.67435624435345%2037.3534492963332%2C-6.64461873043217%2037.3365633914571%2C-6.62625336367183%2037.3569789562915%2C-6.59581018720718%2037.3506994424118%2C-6.58125246058411%2037.3703051383248%2C-6.492413660497%2037.3590379521576%2C-6.4716624422663%2037.3807359777278%2C-6.43859705183134%2037.368908852933%2C-6.44398095303713%2037.347088527492%2C-6.42200724935979%2037.3329929700694%2C-6.37035012694059%2037.3583637388823%2C-6.33153540861988%2037.3329986280188%2C-6.25703879672152%2037.3486795386779%2C-6.2123425985781%2037.3266608721382%2C-6.1976208676784%2037.283024780795%2C-6.17366048732846%2037.2660742144794%2C-6.15177710683581%2037.2667431439207%2C-6.14475916204647%2037.3055642119627%2C-6.1153577846492%2037.3105672777454%2C-6.04475036124726%2037.2771976083931%2C-6.04063041298302%2037.2060457158668%2C-6.01561413928283%2037.1744528799079%2C-6.03401959555254%2037.1582677514823%2C-6.01528760169561%2037.1211642619874%2C-6.03587498721126%2037.0508366627984%2C-6.08415258431292%2037.0557470251154%2C-6.1443715598251%2037.0182321851901%2C-6.20489081698833%2036.9013662293736%2C-6.24848183495607%2036.8846441975983%2C-6.28133674315331%2036.9000390906331%2C-6.27285487885334%2036.8641095189495%2C-6.21240564569216%2036.8569441225281%2C-6.19273049982008%2036.8273222937041%2C-6.23650318117893%2036.7815132843624%2C-6.25972339425557%2036.7794168824025%2C-6.29452828553456%2036.7134050019461%2C-6.32211152509425%2036.693679078589%2C-6.40354402587554%2036.7535989999008%2C-6.39366914786855%2036.7750231637474%2C-6.42465019950879%2036.7928589511795%2C-6.48913510482893%2036.9063367348853%2C-6.55574132052792%2036.9640015939793%2C-6.54729285159512%2036.9812830814621%2C-6.79440295589744%2037.1191319871777))&correlatedTo=https://catalog.terradue.com/ecop-cnr-issia/series/pa/search?uid=donana&corFunction=spatial\"\n"
   ]
  },
  {
   "cell_type": "code",
   "execution_count": 163,
   "metadata": {
    "collapsed": true
   },
   "outputs": [],
   "source": [
    "ftp_server_basepath = 'sftp://frontend.recas.ba.infn.it/lustre/ecopotential/incoming/PAs'"
   ]
  },
  {
   "cell_type": "code",
   "execution_count": 164,
   "metadata": {
    "collapsed": true
   },
   "outputs": [],
   "source": [
    "data_path = '/workspace/data'"
   ]
  },
  {
   "cell_type": "code",
   "execution_count": 165,
   "metadata": {
    "collapsed": true
   },
   "outputs": [],
   "source": [
    "#input_identifier = 'S1A_IW_SLC__1SDV_20180503T182621_20180503T182648_021744_025843_8690'\n",
    "input_identifier = 'S1A_IW_SLC__1SDV_20180608T182623_20180608T182650_022269_0268EB_AB32'"
   ]
  },
  {
   "cell_type": "code",
   "execution_count": 166,
   "metadata": {
    "collapsed": true
   },
   "outputs": [],
   "source": [
    "#input_identifier_wkt = 'POLYGON((-8.535965 37.180996,-5.694044 37.580723,-5.365185 35.960056,-8.145734 35.558769,-8.535965 37.180996))'\n",
    "input_identifier_wkt = 'POLYGON((-8.536756 37.18034,-5.697594 37.579758,-5.368666 35.959213,-8.146519 35.558239,-8.536756 37.18034))'"
   ]
  },
  {
   "cell_type": "code",
   "execution_count": 170,
   "metadata": {
    "collapsed": false
   },
   "outputs": [],
   "source": [
    "import os\n",
    "import shutil\n",
    "import numpy as np\n",
    "import matplotlib\n",
    "import matplotlib.pyplot as plt\n",
    "import snappy\n",
    "import dateutil.parser as parser\n",
    "from datetime import datetime\n",
    "\n",
    "from os.path import basename\n",
    "import osr\n",
    "import warnings\n",
    "warnings.filterwarnings(\"ignore\")\n",
    "from contextlib import closing\n",
    "from zipfile import ZipFile, ZIP_DEFLATED\n",
    "import zipfile\n",
    "import sys\n",
    "\n",
    "sys.path.append('/application/notebook/libexec/') \n",
    "sys.path.append(os.getcwd())\n",
    "import ISOMetadata\n",
    "\n",
    "from shapely.wkt import loads"
   ]
  },
  {
   "cell_type": "code",
   "execution_count": 171,
   "metadata": {
    "collapsed": true
   },
   "outputs": [],
   "source": [
    "def unzip(source_filename, dest_dir):\n",
    "    with zipfile.ZipFile(source_filename) as zf:\n",
    "        zf.extractall(dest_dir)"
   ]
  },
  {
   "cell_type": "code",
   "execution_count": 173,
   "metadata": {
    "collapsed": false
   },
   "outputs": [],
   "source": [
    "unzip('%s/%s.zip' % (data_path,input_identifier), '%s/%s' % (data_path,input_identifier))"
   ]
  },
  {
   "cell_type": "code",
   "execution_count": 174,
   "metadata": {
    "collapsed": false
   },
   "outputs": [],
   "source": [
    "s1prd = \"%s/%s/%s.SAFE/manifest.safe\" % (data_path, input_identifier, input_identifier)\n",
    "product = snappy.ProductIO.readProduct(s1prd)\n",
    "\n",
    "width = product.getSceneRasterWidth()\n",
    "height = product.getSceneRasterHeight()\n",
    "prod_type = product.getProductType()\n",
    "name = product.getName()\n",
    "description = product.getDescription()\n",
    "band_names = product.getBandNames()\n"
   ]
  },
  {
   "cell_type": "code",
   "execution_count": 175,
   "metadata": {
    "collapsed": false
   },
   "outputs": [],
   "source": [
    "start_Date = parser.parse(product.getStartTime().toString()).date()\n",
    "start_time = parser.parse(product.getStartTime().toString()).time()\n",
    "end_Date = parser.parse(product.getEndTime().toString()).date()\n",
    "end_time = parser.parse(product.getEndTime().toString()).time()\n",
    "now = datetime.now()\n",
    "\n",
    "start_date = '%sT%sZ' %(start_Date,start_time)\n",
    "end_date = '%sT%sZ' %(end_Date,end_time)\n",
    "metadata_date = now.strftime(\"%Y-%m-%d\")\n",
    "creation_date = start_date\n"
   ]
  },
  {
   "cell_type": "code",
   "execution_count": 176,
   "metadata": {
    "collapsed": false
   },
   "outputs": [],
   "source": [
    "#date_path = '%s/%02d/%02d' % (product_date.year, product_date.month, product_date.day)\n",
    "date_path = '%s/%02d/%02d' % (start_Date.year, start_Date.month, start_Date.day)\n",
    "    \n",
    "middle_path = '%s/EO_Data/Sentinel1/Raw'%pa_name['value']\n",
    "        \n",
    "ftp_remote_path = os.path.join(ftp_server_basepath, date_path)\n",
    "output_name = name\n",
    "download_URL = '%s/%s' %(ftp_remote_path, output_name)"
   ]
  },
  {
   "cell_type": "code",
   "execution_count": 177,
   "metadata": {
    "collapsed": true
   },
   "outputs": [],
   "source": [
    "def set_dates(start_date,end_date):\n",
    "    \n",
    "    iso_metadata.set_start_date(start_date)\n",
    "    iso_metadata.set_end_date(end_date)"
   ]
  },
  {
   "cell_type": "code",
   "execution_count": 178,
   "metadata": {
    "collapsed": true
   },
   "outputs": [],
   "source": [
    "def set_info(short_name, title, abstract):\n",
    "    \n",
    "    iso_metadata.set_identifier(short_name)\n",
    "    iso_metadata.set_title(title)\n",
    "    iso_metadata.set_abstract(abstract)"
   ]
  },
  {
   "cell_type": "code",
   "execution_count": 179,
   "metadata": {
    "collapsed": true
   },
   "outputs": [],
   "source": [
    "def set_geo(wkt,height,width):\n",
    "       \n",
    "    iso_metadata.set_col_size(height)\n",
    "    iso_metadata.set_row_size(width)\n",
    "    \n",
    "    #POLYGON((-26.4804 33.505,-26.7143 32.3182,-24.1248 32.0496,-23.8554 33.2363,-26.4804 33.505))\n",
    "    polygon = loads(wkt)\n",
    "    \n",
    "    min_x,min_y,max_x,max_y = polygon.bounds\n",
    "    \n",
    "    lr_x,lry,ul_x,ul_y = polygon.bounds\n",
    "    \n",
    "    nw_corner = '%s %s' % (str(min_x), str(max_y))\n",
    "\n",
    "    iso_metadata.set_nw_corner(nw_corner)\n",
    "\n",
    "    se_corner = '%s %s' % (str(max_x), str(min_y))\n",
    "\n",
    "    iso_metadata.set_se_corner(se_corner)\n",
    "    \n",
    "    iso_metadata.set_min_lon(str(min_x))\n",
    "\n",
    "    iso_metadata.set_min_lat(str(min_y))\n",
    "    \n",
    "    iso_metadata.set_max_lon(str(max_x))\n",
    "\n",
    "    iso_metadata.set_max_lat(str(max_y))\n"
   ]
  },
  {
   "cell_type": "code",
   "execution_count": 180,
   "metadata": {
    "collapsed": false
   },
   "outputs": [],
   "source": [
    "iso_metadata = ISOMetadata.ISOMetadata()\n",
    "iso_metadata.set_organisation('CNR')\n",
    "iso_metadata.set_contact('info@terradue.com')\n",
    "iso_metadata.set_date(metadata_date)\n",
    "iso_metadata.set_creation_date(creation_date)\n",
    "iso_metadata.set_data_format('SAFE')\n",
    "iso_metadata.set_data_type('CInt16')\n",
    "iso_metadata.set_pa(pa_name['value'])\n",
    "iso_metadata.set_responsible_party('CNR')\n",
    "iso_metadata.set_onlineResource(download_URL)\n",
    "iso_metadata.set_pa('Area covering %s PA' %pa_name['value'])\n"
   ]
  },
  {
   "cell_type": "markdown",
   "metadata": {},
   "source": [
    "### Writing General XML"
   ]
  },
  {
   "cell_type": "code",
   "execution_count": 181,
   "metadata": {
    "collapsed": false
   },
   "outputs": [],
   "source": [
    "set_dates(start_date,end_date)\n",
    "    \n",
    "short_name = name\n",
    "title = 'Sentinel-1 SAR Standard L1 %s Product %s ' % (prod_type, name)\n",
    "abstract = 'Sentinel-1 SAR Standard L1 %s Product covering %s ' % (prod_type, pa_name['value'])\n",
    "        \n",
    "set_info(short_name, title, abstract)\n",
    "set_geo(input_identifier_wkt, str(height).decode(\"utf-8\"), str(width).decode(\"utf-8\"))\n",
    "\n",
    "iso_metadata.write(name + '.xml')\n"
   ]
  },
  {
   "cell_type": "markdown",
   "metadata": {},
   "source": [
    "### Moving the original zip archive into the runtime dir"
   ]
  },
  {
   "cell_type": "code",
   "execution_count": null,
   "metadata": {
    "collapsed": true
   },
   "outputs": [],
   "source": [
    "shutil.move('%s/%s.zip' % (data_path,input_identifier),'./%s.zip' %input_identifier)"
   ]
  }
 ],
 "metadata": {
  "kernelspec": {
   "display_name": "Python 2",
   "language": "python",
   "name": "python2"
  },
  "language_info": {
   "codemirror_mode": {
    "name": "ipython",
    "version": 2
   },
   "file_extension": ".py",
   "mimetype": "text/x-python",
   "name": "python",
   "nbconvert_exporter": "python",
   "pygments_lexer": "ipython2",
   "version": "2.7.12"
  }
 },
 "nbformat": 4,
 "nbformat_minor": 2
}
