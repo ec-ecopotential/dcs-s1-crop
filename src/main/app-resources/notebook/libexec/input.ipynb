{
 "cells": [
  {
   "cell_type": "code",
   "execution_count": 1,
   "metadata": {
    "collapsed": true
   },
   "outputs": [],
   "source": [
    "service = dict([('title', 'S1 data selection and Crop/GeoTiff conversion'),\n",
    "                ('abstract', 'Sentinel-1 data selection and crop/GeoTiff conversion'),\n",
    "                ('id', 's1_crop')])"
   ]
  },
  {
   "cell_type": "code",
   "execution_count": 2,
   "metadata": {
    "collapsed": true
   },
   "outputs": [],
   "source": [
    "pa_code = dict([('id', 'pa_code'),\n",
    "               ('value', 'DO'),\n",
    "               ('title', 'Protected Area code'),\n",
    "               ('abstract', 'Protected Area code (one of DO,CA,...)')])"
   ]
  },
  {
   "cell_type": "code",
   "execution_count": 3,
   "metadata": {
    "collapsed": true
   },
   "outputs": [],
   "source": [
    "pa_name = dict([('id', 'pa_name'),\n",
    "               ('value', 'Donana'),\n",
    "               ('title', 'Protected Area name'),\n",
    "               ('abstract', 'Protected Area name (one of Donana,...)')])"
   ]
  },
  {
   "cell_type": "code",
   "execution_count": 4,
   "metadata": {
    "collapsed": true
   },
   "outputs": [],
   "source": [
    "pa_wkt = dict([('id', 'pa_wkt'),\n",
    "               ('value', 'POLYGON((-6.79440295589744 37.1191319871777,-6.80827154725944 37.1673031942056,-6.72121114356795 37.2425767108835,-6.71042775152577 37.2930498879682,-6.73405462341917 37.3301447063348,-6.71685147187095 37.3522253716156,-6.67435624435345 37.3534492963332,-6.64461873043217 37.3365633914571,-6.62625336367183 37.3569789562915,-6.59581018720718 37.3506994424118,-6.58125246058411 37.3703051383248,-6.492413660497 37.3590379521576,-6.4716624422663 37.3807359777278,-6.43859705183134 37.368908852933,-6.44398095303713 37.347088527492,-6.42200724935979 37.3329929700694,-6.37035012694059 37.3583637388823,-6.33153540861988 37.3329986280188,-6.25703879672152 37.3486795386779,-6.2123425985781 37.3266608721382,-6.1976208676784 37.283024780795,-6.17366048732846 37.2660742144794,-6.15177710683581 37.2667431439207,-6.14475916204647 37.3055642119627,-6.1153577846492 37.3105672777454,-6.04475036124726 37.2771976083931,-6.04063041298302 37.2060457158668,-6.01561413928283 37.1744528799079,-6.03401959555254 37.1582677514823,-6.01528760169561 37.1211642619874,-6.03587498721126 37.0508366627984,-6.08415258431292 37.0557470251154,-6.1443715598251 37.0182321851901,-6.20489081698833 36.9013662293736,-6.24848183495607 36.8846441975983,-6.28133674315331 36.9000390906331,-6.27285487885334 36.8641095189495,-6.21240564569216 36.8569441225281,-6.19273049982008 36.8273222937041,-6.23650318117893 36.7815132843624,-6.25972339425557 36.7794168824025,-6.29452828553456 36.7134050019461,-6.32211152509425 36.693679078589,-6.40354402587554 36.7535989999008,-6.39366914786855 36.7750231637474,-6.42465019950879 36.7928589511795,-6.48913510482893 36.9063367348853,-6.55574132052792 36.9640015939793,-6.54729285159512 36.9812830814621,-6.79440295589744 37.1191319871777))'),\n",
    "               ('title', 'Protected Area wkt'),\n",
    "               ('abstract', 'Protected Area wkt')])"
   ]
  },
  {
   "cell_type": "code",
   "execution_count": 4,
   "metadata": {
    "collapsed": true
   },
   "outputs": [],
   "source": [
    "spatialCover = dict([('id', 'spatialCover'),\n",
    "               ('value', '100'),\n",
    "               ('title', 'Overlap percentage between PA and dataset'),\n",
    "               ('abstract', 'Overlap percentage between PA and dataset')])"
   ]
  },
  {
   "cell_type": "code",
   "execution_count": 4,
   "metadata": {
    "collapsed": true
   },
   "outputs": [],
   "source": [
    "crop_flag = dict([('id', 'crop_flag'),\n",
    "               ('value', 'False'),\n",
    "               ('title', 'Flag for cropping'),\n",
    "               ('abstract', 'Flag for cropping (True/False)')])"
   ]
  },
  {
   "cell_type": "code",
   "execution_count": 5,
   "metadata": {
    "collapsed": true
   },
   "outputs": [],
   "source": [
    "start = dict([('id', 'start'),\n",
    "              ('value', '2018-06-08T00:00:00Z'),\n",
    "              ('title', 'start date for dataset selection'),\n",
    "              ('abstract', 'start date for dataset selection')])"
   ]
  },
  {
   "cell_type": "code",
   "execution_count": 6,
   "metadata": {
    "collapsed": true
   },
   "outputs": [],
   "source": [
    "stop = dict([('id', 'stop'),\n",
    "            ('value', '2018-06-08T23:59:59Z'),\n",
    "            ('title', 'stop date for dataset selection'),\n",
    "            ('abstract', 'stop date for dataset selection')])"
   ]
  },
  {
   "cell_type": "code",
   "execution_count": 7,
   "metadata": {
    "collapsed": true
   },
   "outputs": [],
   "source": [
    "cat_index = dict([('id', 'cat_index'),\n",
    "              ('value', 'ecop-cnr-issia'),\n",
    "              ('title', 'publishing catalog index'),\n",
    "              ('abstract', 'publishing catalog index')])"
   ]
  },
  {
   "cell_type": "code",
   "execution_count": 8,
   "metadata": {
    "collapsed": true
   },
   "outputs": [],
   "source": [
    "config_url = dict([('id', 'config_url'),\n",
    "                   ('value', 'https://store.terradue.com/ec-ecopotential/config/cnr-sftp-config.ini'),\n",
    "                   ('title', 'FTP configuration file URL'),\n",
    "                   ('abstract', 'FTP configuration file URL')])"
   ]
  },
  {
   "cell_type": "code",
   "execution_count": 9,
   "metadata": {
    "collapsed": true
   },
   "outputs": [],
   "source": [
    "shapefile_url = dict([('id', 'shapefile_url'),\n",
    "                      ('value', 'https://store.terradue.com/ec-ecopotential/PAs/Shapefiles/Donana/Donana_Biosfera_LatLonWGS84'),\n",
    "                      ('title', 'Protected Area shapefiles base name download URL'),\n",
    "                      ('abstract', 'Protected Area name shape file download URL')])"
   ]
  },
  {
   "cell_type": "code",
   "execution_count": 10,
   "metadata": {
    "collapsed": true
   },
   "outputs": [],
   "source": [
    "username = dict([('id', 'username'),\n",
    "                 ('value', 'ecop-cnr-issia'),\n",
    "                 ('title', 'username for DA access'),\n",
    "                 ('abstract', 'username for DA access')])"
   ]
  },
  {
   "cell_type": "code",
   "execution_count": 11,
   "metadata": {
    "collapsed": true
   },
   "outputs": [],
   "source": [
    "api_key  = dict([('id', 'api_key'),\n",
    "                 ('value', 'AKCp5aUa1sSVSDdky5odFrKbwpyKzrBuZjWvrWbUigaPVNPWL3H6uiLSgEjFWLVdnUz45Ky7x'),\n",
    "                 ('title', 'apikey for DA access'),\n",
    "                 ('abstract', 'apikey for DA access')])"
   ]
  },
  {
   "cell_type": "code",
   "execution_count": 35,
   "metadata": {
    "collapsed": false
   },
   "outputs": [
    {
     "ename": "SyntaxError",
     "evalue": "invalid syntax (<ipython-input-35-a5e8c5c8ab2c>, line 1)",
     "output_type": "error",
     "traceback": [
      "\u001b[0;36m  File \u001b[0;32m\"<ipython-input-35-a5e8c5c8ab2c>\"\u001b[0;36m, line \u001b[0;32m1\u001b[0m\n\u001b[0;31m    input_reference = \"\"https://catalog.terradue.com/sentinel1/series/SLC_GRDH/search?geom=POLYGON((-6.79440295589744%2037.1191319871777%2C-6.80827154725944%2037.1673031942056%2C-6.72121114356795%2037.2425767108835%2C-6.71042775152577%2037.2930498879682%2C-6.73405462341917%2037.3301447063348%2C-6.71685147187095%2037.3522253716156%2C-6.67435624435345%2037.3534492963332%2C-6.64461873043217%2037.3365633914571%2C-6.62625336367183%2037.3569789562915%2C-6.59581018720718%2037.3506994424118%2C-6.58125246058411%2037.3703051383248%2C-6.492413660497%2037.3590379521576%2C-6.4716624422663%2037.3807359777278%2C-6.43859705183134%2037.368908852933%2C-6.44398095303713%2037.347088527492%2C-6.42200724935979%2037.3329929700694%2C-6.37035012694059%2037.3583637388823%2C-6.33153540861988%2037.3329986280188%2C-6.25703879672152%2037.3486795386779%2C-6.2123425985781%2037.3266608721382%2C-6.1976208676784%2037.283024780795%2C-6.17366048732846%2037.2660742144794%2C-6.15177710683581%2037.2667431439207%2C-6.14475916204647%2037.3055642119627%2C-6.1153577846492%2037.3105672777454%2C-6.04475036124726%2037.2771976083931%2C-6.04063041298302%2037.2060457158668%2C-6.01561413928283%2037.1744528799079%2C-6.03401959555254%2037.1582677514823%2C-6.01528760169561%2037.1211642619874%2C-6.03587498721126%2037.0508366627984%2C-6.08415258431292%2037.0557470251154%2C-6.1443715598251%2037.0182321851901%2C-6.20489081698833%2036.9013662293736%2C-6.24848183495607%2036.8846441975983%2C-6.28133674315331%2036.9000390906331%2C-6.27285487885334%2036.8641095189495%2C-6.21240564569216%2036.8569441225281%2C-6.19273049982008%2036.8273222937041%2C-6.23650318117893%2036.7815132843624%2C-6.25972339425557%2036.7794168824025%2C-6.29452828553456%2036.7134050019461%2C-6.32211152509425%2036.693679078589%2C-6.40354402587554%2036.7535989999008%2C-6.39366914786855%2036.7750231637474%2C-6.42465019950879%2036.7928589511795%2C-6.48913510482893%2036.9063367348853%2C-6.55574132052792%2036.9640015939793%2C-6.54729285159512%2036.9812830814621%2C-6.79440295589744%2037.1191319871777))\"\u001b[0m\n\u001b[0m                            ^\u001b[0m\n\u001b[0;31mSyntaxError\u001b[0m\u001b[0;31m:\u001b[0m invalid syntax\n"
     ]
    }
   ],
   "source": [
    "input_reference = \"https://catalog.terradue.com/sentinel1/series/SLC_GRDH/search?geom=POLYGON((-6.79440295589744%2037.1191319871777%2C-6.80827154725944%2037.1673031942056%2C-6.72121114356795%2037.2425767108835%2C-6.71042775152577%2037.2930498879682%2C-6.73405462341917%2037.3301447063348%2C-6.71685147187095%2037.3522253716156%2C-6.67435624435345%2037.3534492963332%2C-6.64461873043217%2037.3365633914571%2C-6.62625336367183%2037.3569789562915%2C-6.59581018720718%2037.3506994424118%2C-6.58125246058411%2037.3703051383248%2C-6.492413660497%2037.3590379521576%2C-6.4716624422663%2037.3807359777278%2C-6.43859705183134%2037.368908852933%2C-6.44398095303713%2037.347088527492%2C-6.42200724935979%2037.3329929700694%2C-6.37035012694059%2037.3583637388823%2C-6.33153540861988%2037.3329986280188%2C-6.25703879672152%2037.3486795386779%2C-6.2123425985781%2037.3266608721382%2C-6.1976208676784%2037.283024780795%2C-6.17366048732846%2037.2660742144794%2C-6.15177710683581%2037.2667431439207%2C-6.14475916204647%2037.3055642119627%2C-6.1153577846492%2037.3105672777454%2C-6.04475036124726%2037.2771976083931%2C-6.04063041298302%2037.2060457158668%2C-6.01561413928283%2037.1744528799079%2C-6.03401959555254%2037.1582677514823%2C-6.01528760169561%2037.1211642619874%2C-6.03587498721126%2037.0508366627984%2C-6.08415258431292%2037.0557470251154%2C-6.1443715598251%2037.0182321851901%2C-6.20489081698833%2036.9013662293736%2C-6.24848183495607%2036.8846441975983%2C-6.28133674315331%2036.9000390906331%2C-6.27285487885334%2036.8641095189495%2C-6.21240564569216%2036.8569441225281%2C-6.19273049982008%2036.8273222937041%2C-6.23650318117893%2036.7815132843624%2C-6.25972339425557%2036.7794168824025%2C-6.29452828553456%2036.7134050019461%2C-6.32211152509425%2036.693679078589%2C-6.40354402587554%2036.7535989999008%2C-6.39366914786855%2036.7750231637474%2C-6.42465019950879%2036.7928589511795%2C-6.48913510482893%2036.9063367348853%2C-6.55574132052792%2036.9640015939793%2C-6.54729285159512%2036.9812830814621%2C-6.79440295589744%2037.1191319871777))&correlatedTo=https://catalog.terradue.com/ecop-cnr-issia/series/pa/search?uid=donana&corFunction=spatial\"\n"
   ]
  },
  {
   "cell_type": "code",
   "execution_count": 13,
   "metadata": {
    "collapsed": true
   },
   "outputs": [],
   "source": [
    "ftp_server_basepath = 'sftp://frontend.recas.ba.infn.it/lustre/ecopotential/incoming/PAs'"
   ]
  },
  {
   "cell_type": "code",
   "execution_count": 14,
   "metadata": {
    "collapsed": true
   },
   "outputs": [],
   "source": [
    "data_path = '/workspace/data'"
   ]
  },
  {
   "cell_type": "code",
   "execution_count": 15,
   "metadata": {
    "collapsed": true
   },
   "outputs": [],
   "source": [
    "input_identifier = 'S1A_IW_SLC__1SDV_20180503T182621_20180503T182648_021744_025843_8690'"
   ]
  },
  {
   "cell_type": "code",
   "execution_count": 19,
   "metadata": {
    "collapsed": true
   },
   "outputs": [],
   "source": [
    "import os\n",
    "import numpy as np\n",
    "import matplotlib\n",
    "import matplotlib.pyplot as plt\n",
    "import snappy\n",
    "import dateutil.parser as parser\n",
    "import gc\n",
    "from datetime import datetime\n",
    "import matplotlib\n",
    "import matplotlib.colors as colors\n",
    "\n",
    "from os.path import basename\n",
    "import gdal\n",
    "import osr\n",
    "import warnings\n",
    "warnings.filterwarnings(\"ignore\")\n",
    "import zipfile\n",
    "\n",
    "import sys\n",
    "\n",
    "sys.path.append('/application/notebook/libexec/') \n",
    "sys.path.append(os.getcwd())\n",
    "import ISOMetadata\n",
    "\n",
    "%matplotlib inline"
   ]
  },
  {
   "cell_type": "code",
   "execution_count": 21,
   "metadata": {
    "collapsed": false
   },
   "outputs": [],
   "source": [
    "s1prd = \"%s/%s/%s.SAFE/manifest.safe\" % (data_path, input_identifier, input_identifier)\n",
    "product = snappy.ProductIO.readProduct(s1prd)\n",
    "\n",
    "width = product.getSceneRasterWidth()\n",
    "height = product.getSceneRasterHeight()\n",
    "name = product.getName()\n",
    "description = product.getDescription()\n",
    "band_names = product.getBandNames()\n"
   ]
  },
  {
   "cell_type": "code",
   "execution_count": 22,
   "metadata": {
    "collapsed": true
   },
   "outputs": [],
   "source": [
    "product_date = parser.parse(product.getStartTime().toString()).date()"
   ]
  },
  {
   "cell_type": "code",
   "execution_count": 23,
   "metadata": {
    "collapsed": true
   },
   "outputs": [],
   "source": [
    "output_date = '%s%02d%02d' % (product_date.year, product_date.month, product_date.day)\n",
    "date_path = '%s/%02d/%02d' % (product_date.year, product_date.month, product_date.day)\n",
    "    \n",
    "middle_path = '%s/EO_Data/Sentinel1/Raw'%pa_name['value']\n",
    "        \n",
    "ftp_remote_path = os.path.join(ftp_server_basepath, date_path)\n",
    "zip_output_name = '%s_PA_%s_CROP.zip' % (name, pa_name['value'])\n",
    "download_URL = '%s/%s' %(ftp_remote_path, zip_output_name)"
   ]
  },
  {
   "cell_type": "markdown",
   "metadata": {},
   "source": [
    "### Getting Shapefile from store"
   ]
  },
  {
   "cell_type": "code",
   "execution_count": 24,
   "metadata": {
    "collapsed": true
   },
   "outputs": [],
   "source": [
    "import warnings\n",
    "import requests\n",
    "warnings.filterwarnings(\"ignore\")\n",
    "import shapefile\n",
    "from shapely.geometry import shape\n",
    "\n",
    "try:\n",
    "    shp_url = '%s.shp' %shapefile_url['value']\n",
    "    r = requests.get(shp_url,headers={\"X-JFrog-Art-Api\":api_key['value'], 'User-Agent': 'curl/t2Client'})\n",
    "    if r.status_code == 200:\n",
    "        if r.content:\n",
    "            shape_shp = os.path.join(os.path.join(data_path,os.path.basename(shp_url)))\n",
    "            with open(shape_shp,\"wb\") as f:\n",
    "                for chunk in r.iter_content(chunk_size=1024):\n",
    "                    # writing one chunk at a time to pdf file\n",
    "                    if chunk:\n",
    "                        f.write(chunk)\n",
    "                f.close()\n",
    "    else:\n",
    "        raise ValueError\n",
    "    dbf_url = '%s.dbf' %shapefile_url['value']\n",
    "    r2 = requests.get(dbf_url,headers={\"X-JFrog-Art-Api\":api_key['value'], 'User-Agent': 'curl/t2Client'})\n",
    "    if r2.status_code == 200:\n",
    "        if r2.content:\n",
    "            shape_dbf = os.path.join(os.path.join(data_path,os.path.basename(dbf_url)))\n",
    "            with open(shape_dbf,\"wb\") as f:\n",
    "                for chunk in r2.iter_content(chunk_size=1024):\n",
    "                    # writing one chunk at a time to pdf file\n",
    "                    if chunk:\n",
    "                        f.write(chunk)\n",
    "                f.close()\n",
    "    else:\n",
    "        raise ValueError\n",
    "except Exception as e:\n",
    "    raise\n",
    "\n",
    "shapeIN = shapefile.Reader(shape_shp)\n",
    "feature = shapeIN.shapeRecords()[0]\n",
    "first = feature.shape.__geo_interface__  \n",
    "\n",
    "shp_geom = shape(first)"
   ]
  },
  {
   "cell_type": "markdown",
   "metadata": {},
   "source": [
    "### Crop"
   ]
  },
  {
   "cell_type": "code",
   "execution_count": 34,
   "metadata": {
    "collapsed": false
   },
   "outputs": [
    {
     "ename": "RuntimeError",
     "evalue": "org.esa.snap.core.gpf.OperatorException: Source product 'S1A_IW_SLC__1SDV_20180503T182621_20180503T182648_021744_025843_8690_resampled' contains rasters of different sizes and can not be processed.\nPlease consider resampling it so that all rasters have the same size.",
     "output_type": "error",
     "traceback": [
      "\u001b[0;31m\u001b[0m",
      "\u001b[0;31mRuntimeError\u001b[0mTraceback (most recent call last)",
      "\u001b[0;32m<ipython-input-34-39d47a5c7656>\u001b[0m in \u001b[0;36m<module>\u001b[0;34m()\u001b[0m\n\u001b[1;32m     25\u001b[0m     \u001b[0mparameters\u001b[0m\u001b[0;34m.\u001b[0m\u001b[0mput\u001b[0m\u001b[0;34m(\u001b[0m\u001b[0;34m'sourceBands'\u001b[0m\u001b[0;34m,\u001b[0m \u001b[0mband\u001b[0m\u001b[0;34m)\u001b[0m\u001b[0;34m\u001b[0m\u001b[0m\n\u001b[1;32m     26\u001b[0m \u001b[0;34m\u001b[0m\u001b[0m\n\u001b[0;32m---> 27\u001b[0;31m     \u001b[0msubset\u001b[0m \u001b[0;34m=\u001b[0m \u001b[0msnappy\u001b[0m\u001b[0;34m.\u001b[0m\u001b[0mGPF\u001b[0m\u001b[0;34m.\u001b[0m\u001b[0mcreateProduct\u001b[0m\u001b[0;34m(\u001b[0m\u001b[0;34m'Subset'\u001b[0m\u001b[0;34m,\u001b[0m \u001b[0mparameters\u001b[0m\u001b[0;34m,\u001b[0m \u001b[0mresample\u001b[0m\u001b[0;34m)\u001b[0m\u001b[0;34m\u001b[0m\u001b[0m\n\u001b[0m\u001b[1;32m     28\u001b[0m \u001b[0;34m\u001b[0m\u001b[0m\n\u001b[1;32m     29\u001b[0m     \u001b[0mparameters\u001b[0m \u001b[0;34m=\u001b[0m \u001b[0mHashMap\u001b[0m\u001b[0;34m(\u001b[0m\u001b[0;34m)\u001b[0m\u001b[0;34m\u001b[0m\u001b[0m\n",
      "\u001b[0;31mRuntimeError\u001b[0m: org.esa.snap.core.gpf.OperatorException: Source product 'S1A_IW_SLC__1SDV_20180503T182621_20180503T182648_021744_025843_8690_resampled' contains rasters of different sizes and can not be processed.\nPlease consider resampling it so that all rasters have the same size."
     ]
    }
   ],
   "source": [
    "snappy.GPF.getDefaultInstance().getOperatorSpiRegistry().loadOperatorSpis()\n",
    "\n",
    "HashMap = snappy.jpy.get_type('java.util.HashMap')\n",
    "\n",
    "WKTReader = snappy.jpy.get_type('com.vividsolutions.jts.io.WKTReader')\n",
    "geom = WKTReader().read(str(shp_geom))\n",
    "\n",
    "    \n",
    "subsets = []\n",
    "geotiffs = []\n",
    "\n",
    "\n",
    "for band in list(band_names)[0:18]:\n",
    "\n",
    "    \n",
    "    BandDescriptor = snappy.jpy.get_type('org.esa.snap.core.gpf.common.BandMathsOp$BandDescriptor')\n",
    "\n",
    "    parameters = HashMap()\n",
    "    parameters.put('referenceBand', band)\n",
    "\n",
    "    resample = snappy.GPF.createProduct('Resample', parameters, product)\n",
    "\n",
    "    parameters = HashMap()\n",
    "    parameters.put('copyMetadata', True)\n",
    "    parameters.put('sourceBands', band)\n",
    "\n",
    "    subset = snappy.GPF.createProduct('Subset', parameters, resample)\n",
    "\n",
    "    parameters = HashMap()\n",
    "    parameters.put('copyMetadata', True)\n",
    "    parameters.put('geoRegion', geom)\n",
    "\n",
    "    subset_geo = snappy.GPF.createProduct('Subset', parameters, subset)\n",
    "\n",
    "    subsets.append(subset_geo)\n",
    "\n",
    "    output_name = '%s_PA_%s_CROP_%s.tif' % (name, pa_name['value'], band)\n",
    "    geotiffs.append(output_name)\n",
    "\n",
    "    snappy.ProductIO.writeProduct(subset_geo, output_name, 'GeoTIFF')"
   ]
  },
  {
   "cell_type": "code",
   "execution_count": null,
   "metadata": {
    "collapsed": true
   },
   "outputs": [],
   "source": [
    "%matplotlib inline\n",
    "\n",
    "def plotBand(product, band, vmin, vmax):\n",
    "    \n",
    "    band = product.getBand(band)\n",
    "\n",
    "    w = band.getRasterWidth()\n",
    "    h = band.getRasterHeight()\n",
    "    \n",
    "    band_data = np.zeros(w * h, np.float32)\n",
    "    band.readPixels(0, 0, w, h, band_data)\n",
    "\n",
    "    band_data.shape = h, w\n",
    "\n",
    "    imgplot = plt.imshow(band_data, cmap=plt.cm.binary_r, vmin=vmin, vmax=vmax)\n",
    "\n",
    "    \n",
    "    return imgplot \n"
   ]
  },
  {
   "cell_type": "code",
   "execution_count": null,
   "metadata": {
    "collapsed": true
   },
   "outputs": [],
   "source": [
    "if False:\n",
    "    fig = plt.figure(figsize=(20,20))\n",
    "    for index, subset in enumerate(subsets):\n",
    "        a=fig.add_subplot(4,4,index+1)\n",
    "        imgplot = plotBand(subset, band_names[index], 0, 1)\n",
    "        nameB = band_names[index]\n",
    "        a.set_title('%s %s-cropped' %(nameB, pa_name['value']))\n",
    "    \n",
    "    plt.tight_layout()\n",
    "    fig = plt.gcf() \n",
    "    plt.show()\n",
    "\n",
    "    fig.clf()\n",
    "    plt.close()\n",
    "    gc.collect()\n",
    "    "
   ]
  },
  {
   "cell_type": "code",
   "execution_count": null,
   "metadata": {
    "collapsed": true
   },
   "outputs": [],
   "source": [
    "def set_dates(start_date,end_date):\n",
    "    \n",
    "    iso_metadata.set_start_date(start_date)\n",
    "    iso_metadata.set_end_date(end_date)"
   ]
  },
  {
   "cell_type": "code",
   "execution_count": null,
   "metadata": {
    "collapsed": true
   },
   "outputs": [],
   "source": [
    "def set_info(short_name, title, abstract):\n",
    "    \n",
    "    iso_metadata.set_identifier(short_name)\n",
    "    iso_metadata.set_title(title)\n",
    "    iso_metadata.set_abstract(abstract)"
   ]
  },
  {
   "cell_type": "code",
   "execution_count": null,
   "metadata": {
    "collapsed": true
   },
   "outputs": [],
   "source": [
    "def set_geo(geotiff):\n",
    "    \n",
    "    ds = gdal.Open(geotiff)\n",
    "\n",
    "    iso_metadata.set_col_size(str(ds.RasterXSize))\n",
    "    iso_metadata.set_row_size(str(ds.RasterYSize))\n",
    "\n",
    "    transform = ds.GetGeoTransform()\n",
    "\n",
    "    iso_metadata.set_pixel_size(str(transform[1]))\n",
    "\n",
    "    ul_x = transform[0]\n",
    "    ul_y = transform[3]\n",
    "\n",
    "    nw_corner = '%s %s' % (str(ul_x), str(ul_y))\n",
    "\n",
    "    iso_metadata.set_nw_corner(nw_corner)\n",
    "\n",
    "    lr_x = transform[0] + transform[1] * ds.RasterXSize\n",
    "    lr_y = transform[3] + transform[5] * ds.RasterYSize\n",
    "\n",
    "    se_corner = '%s %s' % (str(lr_x), str(lr_y))\n",
    "\n",
    "    iso_metadata.set_se_corner(se_corner)\n",
    "\n",
    "    \n",
    "    \n",
    "    old_cs= osr.SpatialReference()\n",
    "    old_cs.ImportFromWkt(ds.GetProjectionRef())\n",
    "\n",
    "    wgs84_wkt = \"\"\"\n",
    "GEOGCS[\"WGS 84\",\n",
    "    DATUM[\"WGS_1984\",\n",
    "        SPHEROID[\"WGS 84\",6378137,298.257223563,\n",
    "            AUTHORITY[\"EPSG\",\"7030\"]],\n",
    "        AUTHORITY[\"EPSG\",\"6326\"]],\n",
    "    PRIMEM[\"Greenwich\",0,\n",
    "        AUTHORITY[\"EPSG\",\"8901\"]],\n",
    "    UNIT[\"degree\",0.01745329251994328,\n",
    "        AUTHORITY[\"EPSG\",\"9122\"]],\n",
    "    AUTHORITY[\"EPSG\",\"4326\"]]\"\"\"\n",
    "    new_cs = osr.SpatialReference()\n",
    "    new_cs .ImportFromWkt(wgs84_wkt)\n",
    "\n",
    "    transform = osr.CoordinateTransformation(old_cs,new_cs) \n",
    "\n",
    "    min_lon = transform.TransformPoint(ul_x,lr_y)[0]\n",
    "    iso_metadata.set_min_lon(str(min_lon))\n",
    "\n",
    "    min_lat = transform.TransformPoint(ul_x,lr_y)[1]\n",
    "    iso_metadata.set_min_lat(str(min_lat))\n",
    "\n",
    "    max_lon = transform.TransformPoint(lr_x, ul_y)[0]\n",
    "    iso_metadata.set_max_lon(str(max_lon))\n",
    "\n",
    "    max_lat = transform.TransformPoint(lr_x, ul_y)[1]\n",
    "    iso_metadata.set_max_lat(str(max_lat))\n",
    "    \n",
    "    prj = ds.GetProjection()\n",
    "    srs=osr.SpatialReference(wkt=prj)\n",
    "\n",
    "\n",
    "    iso_metadata.set_epsg_code(srs.GetAttrValue(\"PROJCS|AUTHORITY\", 1))"
   ]
  },
  {
   "cell_type": "code",
   "execution_count": null,
   "metadata": {
    "collapsed": true
   },
   "outputs": [],
   "source": [
    "def write_properties(properties_file):\n",
    "    \n",
    "    properties = open(properties_file + '.properties', 'w')\n",
    "\n",
    "    properties.write('identifier=' + geotiff)\n",
    "    properties.write('\\n')\n",
    "    properties.write('date=%s/%s' % (parser.parse(subset.getStartTime().toString()).isoformat(), \n",
    "                                 parser.parse(subset.getEndTime().toString()).isoformat()))\n",
    "    properties.write('\\n')\n",
    "    properties.write('category=%s,http://www.terradue.com/api/data-pipeline/results,%s Protected Area resource' % (pa_code['value'], pa_name['value']))\n",
    " \n",
    "    properties.close()"
   ]
  },
  {
   "cell_type": "code",
   "execution_count": null,
   "metadata": {
    "collapsed": true
   },
   "outputs": [],
   "source": [
    "iso_metadata = ISOMetadata.ISOMetadata()\n",
    "iso_metadata.set_contact('info@terradue.com')\n",
    "iso_metadata.set_date(output_date)\n",
    "iso_metadata.set_data_format('GEOTIFF')\n",
    "iso_metadata.set_data_type('UInt16')\n",
    "iso_metadata.set_pa(pa_name['value'])\n",
    "iso_metadata.set_data_quality('Nominal')\n",
    "iso_metadata.set_responsible_party('CNR')\n",
    "iso_metadata.set_onlineResource(download_URL)"
   ]
  },
  {
   "cell_type": "code",
   "execution_count": null,
   "metadata": {
    "collapsed": true
   },
   "outputs": [],
   "source": [
    "for index, geotiff in enumerate(geotiffs):\n",
    "        \n",
    "    subset = subsets[index]\n",
    "        \n",
    "    start_date = parser.parse(subset.getStartTime().toString()).isoformat()\n",
    "    end_date = parser.parse(subset.getEndTime().toString()).isoformat()\n",
    "        \n",
    "    set_dates(start_date,end_date)\n",
    "        \n",
    "    short_name = os.path.splitext(basename(geotiff))[0]\n",
    "    band = band_names[index]\n",
    "    title = 'Sentinel 1 Level 1 %s Band %s' % (pt,band)\n",
    "    abstract = 'Sentinel 1 Level 1 %s cropped Band %s' % (pt,band)\n",
    "        \n",
    "    set_info(short_name, title, abstract)\n",
    "\n",
    "    set_geo(geotiff)\n",
    "\n",
    "    iso_metadata.write(os.path.splitext(basename(geotiff))[0] + '.xml')\n",
    "\n",
    "    write_properties(basename(geotiff))"
   ]
  },
  {
   "cell_type": "markdown",
   "metadata": {},
   "source": [
    "### Zipping the cropped bands and related metadata"
   ]
  },
  {
   "cell_type": "code",
   "execution_count": null,
   "metadata": {
    "collapsed": true
   },
   "outputs": [],
   "source": [
    "\n",
    "zip_output_name = '%s_PA_%s_CROP.zip' % (name, pa_name['value'])\n",
    "zf = zipfile.ZipFile(zip_output_name, mode='w')\n",
    "try:\n",
    "    for geotiff in geotiffs:\n",
    "        short_name = os.path.splitext(basename(geotiff))[0]\n",
    "        #print '%s %s.properties %s.xml' %(geotiff,geotiff,short_name)\n",
    "        zf.write(geotiff)\n",
    "        zf.write('%s.properties' %geotiff)\n",
    "        zf.write('%s.xml' %short_name)\n",
    "finally:\n",
    "    #print 'closing'\n",
    "    zf.close()"
   ]
  },
  {
   "cell_type": "markdown",
   "metadata": {},
   "source": [
    "### Writing General XML"
   ]
  },
  {
   "cell_type": "code",
   "execution_count": null,
   "metadata": {
    "collapsed": true
   },
   "outputs": [],
   "source": [
    "set_dates(start_date,end_date)\n",
    "    \n",
    "short_name = os.path.splitext(zip_output_name)[0]\n",
    "title = 'Sentinel 1 Level 1 %s (cropped Bands) ' % name\n",
    "abstract = 'Sentinel 1 Level 1 cropped over %s \\(17 bands\\)' % pa_name['value']\n",
    "        \n",
    "set_info(short_name, title, abstract)\n",
    "\n",
    "iso_metadata.write(os.path.splitext(zip_output_name)[0] + '.xml')"
   ]
  },
  {
   "cell_type": "code",
   "execution_count": null,
   "metadata": {
    "collapsed": true
   },
   "outputs": [],
   "source": []
  }
 ],
 "metadata": {
  "kernelspec": {
   "display_name": "Python 2",
   "language": "python",
   "name": "python2"
  },
  "language_info": {
   "codemirror_mode": {
    "name": "ipython",
    "version": 2
   },
   "file_extension": ".py",
   "mimetype": "text/x-python",
   "name": "python",
   "nbconvert_exporter": "python",
   "pygments_lexer": "ipython2",
   "version": "2.7.12"
  }
 },
 "nbformat": 4,
 "nbformat_minor": 2
}
