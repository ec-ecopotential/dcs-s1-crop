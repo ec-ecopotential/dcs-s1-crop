{
 "cells": [
  {
   "cell_type": "code",
   "execution_count": 151,
   "metadata": {
    "collapsed": false
   },
   "outputs": [],
   "source": [
    "service = dict([('title', 'S1 data selection'),\n",
    "                ('abstract', 'Sentinel-1 data selection'),\n",
    "                ('id', 's1_crop')])"
   ]
  },
  {
   "cell_type": "code",
   "execution_count": null,
   "metadata": {
    "collapsed": true
   },
   "outputs": [],
   "source": [
    "base_endpoint = dict([('id', 'base_endpoint'),\n",
    "              ('value', 'https://catalog.terradue.com/sentinel1/series/SLC_GRDH/search'),\n",
    "              ('title', 'catalogue base URL'),\n",
    "              ('abstract', 'base URL of the catalogue')])"
   ]
  },
  {
   "cell_type": "code",
   "execution_count": null,
   "metadata": {
    "collapsed": true
   },
   "outputs": [],
   "source": [
    "start = dict([('id', 'start'),\n",
    "              ('value', '2018-06-08T00:00:00Z'),\n",
    "              ('title', 'start date for dataset selection'),\n",
    "              ('abstract', 'start date for dataset selection')])"
   ]
  },
  {
   "cell_type": "code",
   "execution_count": 157,
   "metadata": {
    "collapsed": true
   },
   "outputs": [],
   "source": [
    "stop = dict([('id', 'stop'),\n",
    "            ('value', '2018-06-08T23:59:59Z'),\n",
    "            ('title', 'stop date for dataset selection'),\n",
    "            ('abstract', 'stop date for dataset selection')])"
   ]
  },
  {
   "cell_type": "code",
   "execution_count": null,
   "metadata": {
    "collapsed": true
   },
   "outputs": [],
   "source": [
    "search_type = dict([('id', 'time_filter_type'),\n",
    "            ('value', 'date'),\n",
    "            ('title', 'search time filter type'),\n",
    "            ('abstract', 'search time filter type for dataset selection (date|update)')])"
   ]
  },
  {
   "cell_type": "code",
   "execution_count": 158,
   "metadata": {
    "collapsed": true
   },
   "outputs": [],
   "source": [
    "cat_index = dict([('id', 'cat_index'),\n",
    "              ('value', 'ecop-cnr-issia'),\n",
    "              ('title', 'publishing catalog index'),\n",
    "              ('abstract', 'publishing catalog index')])"
   ]
  },
  {
   "cell_type": "code",
   "execution_count": 159,
   "metadata": {
    "collapsed": true
   },
   "outputs": [],
   "source": [
    "config_url = dict([('id', 'config_url'),\n",
    "                   ('value', 'https://store.terradue.com/ec-ecopotential/config/config.ini'),\n",
    "                   ('title', 'FTP configuration file URL'),\n",
    "                   ('abstract', 'FTP configuration file URL')])"
   ]
  },
  {
   "cell_type": "code",
   "execution_count": 160,
   "metadata": {
    "collapsed": true
   },
   "outputs": [],
   "source": [
    "username = dict([('id', 'username'),\n",
    "                 ('value', 'ecop-cnr-issia'),\n",
    "                 ('title', 'username for DA access'),\n",
    "                 ('abstract', 'username for DA access')])"
   ]
  },
  {
   "cell_type": "code",
   "execution_count": 161,
   "metadata": {
    "collapsed": true
   },
   "outputs": [],
   "source": [
    "api_key  = dict([('id', 'api_key'),\n",
    "                 ('value', 'AKCp5aUa1sSVSDdky5odFrKbwpyKzrBuZjWvrWbUigaPVNPWL3H6uiLSgEjFWLVdnUz45Ky7x'),\n",
    "                 ('title', 'apikey for DA access'),\n",
    "                 ('abstract', 'apikey for DA access')])"
   ]
  },
  {
   "cell_type": "code",
   "execution_count": 164,
   "metadata": {
    "collapsed": true
   },
   "outputs": [],
   "source": [
    "data_path = '/workspace/data'"
   ]
  },
  {
   "cell_type": "code",
   "execution_count": 162,
   "metadata": {
    "collapsed": false
   },
   "outputs": [],
   "source": [
    "input_reference = \"donana\""
   ]
  },
  {
   "cell_type": "code",
   "execution_count": 165,
   "metadata": {
    "collapsed": true
   },
   "outputs": [],
   "source": [
    "#input_identifier = 'S1A_IW_SLC__1SDV_20180503T182621_20180503T182648_021744_025843_8690'\n",
    "input_identifier = 'S1A_IW_SLC__1SDV_20180608T182623_20180608T182650_022269_0268EB_AB32'"
   ]
  },
  {
   "cell_type": "code",
   "execution_count": 166,
   "metadata": {
    "collapsed": true
   },
   "outputs": [],
   "source": [
    "#input_identifier_wkt = 'POLYGON((-8.535965 37.180996,-5.694044 37.580723,-5.365185 35.960056,-8.145734 35.558769,-8.535965 37.180996))'\n",
    "input_identifier_wkt = 'POLYGON((-8.536756 37.18034,-5.697594 37.579758,-5.368666 35.959213,-8.146519 35.558239,-8.536756 37.18034))'"
   ]
  },
  {
   "cell_type": "code",
   "execution_count": null,
   "metadata": {
    "collapsed": true
   },
   "outputs": [],
   "source": [
    "input_pa_name = 'Donana'"
   ]
  },
  {
   "cell_type": "code",
   "execution_count": 163,
   "metadata": {
    "collapsed": true
   },
   "outputs": [],
   "source": [
    "input_ftp_server_address = 'sftp://frontend.recas.ba.infn.it/lustre/ecopotential/incoming/PAs'"
   ]
  },
  {
   "cell_type": "code",
   "execution_count": 170,
   "metadata": {
    "collapsed": false
   },
   "outputs": [],
   "source": [
    "import os\n",
    "import shutil\n",
    "import numpy as np\n",
    "import matplotlib\n",
    "import matplotlib.pyplot as plt\n",
    "import snappy\n",
    "import dateutil.parser as parser\n",
    "from datetime import datetime\n",
    "\n",
    "from os.path import basename\n",
    "import osr\n",
    "import warnings\n",
    "warnings.filterwarnings(\"ignore\")\n",
    "from contextlib import closing\n",
    "from zipfile import ZipFile, ZIP_DEFLATED\n",
    "import zipfile\n",
    "import sys\n",
    "\n",
    "sys.path.append('/application/notebook/libexec/') \n",
    "sys.path.append(os.getcwd())\n",
    "import ISOMetadata\n",
    "\n",
    "from shapely.wkt import loads"
   ]
  },
  {
   "cell_type": "code",
   "execution_count": 171,
   "metadata": {
    "collapsed": true
   },
   "outputs": [],
   "source": [
    "def unzip(source_filename, dest_dir):\n",
    "    with zipfile.ZipFile(source_filename) as zf:\n",
    "        zf.extractall(dest_dir)"
   ]
  },
  {
   "cell_type": "code",
   "execution_count": 173,
   "metadata": {
    "collapsed": false
   },
   "outputs": [],
   "source": [
    "unzip('%s/%s.zip' % (data_path,input_identifier), '%s/%s' % (data_path,input_identifier))"
   ]
  },
  {
   "cell_type": "code",
   "execution_count": 174,
   "metadata": {
    "collapsed": false
   },
   "outputs": [],
   "source": [
    "s1prd = \"%s/%s/%s.SAFE/manifest.safe\" % (data_path, input_identifier, input_identifier)\n",
    "product = snappy.ProductIO.readProduct(s1prd)\n",
    "\n",
    "width = product.getSceneRasterWidth()\n",
    "height = product.getSceneRasterHeight()\n",
    "prod_type = product.getProductType()\n",
    "name = product.getName()\n",
    "description = product.getDescription()\n",
    "band_names = product.getBandNames()\n"
   ]
  },
  {
   "cell_type": "code",
   "execution_count": 175,
   "metadata": {
    "collapsed": false
   },
   "outputs": [],
   "source": [
    "start_Date = parser.parse(product.getStartTime().toString()).date()\n",
    "start_time = parser.parse(product.getStartTime().toString()).time()\n",
    "end_Date = parser.parse(product.getEndTime().toString()).date()\n",
    "end_time = parser.parse(product.getEndTime().toString()).time()\n",
    "now = datetime.now()\n",
    "\n",
    "start_date = '%sT%sZ' %(start_Date,start_time)\n",
    "end_date = '%sT%sZ' %(end_Date,end_time)\n",
    "metadata_date = now.strftime(\"%Y-%m-%d\")\n",
    "creation_date = start_date\n"
   ]
  },
  {
   "cell_type": "code",
   "execution_count": 176,
   "metadata": {
    "collapsed": false
   },
   "outputs": [],
   "source": [
    "#date_path = '%s/%02d/%02d' % (product_date.year, product_date.month, product_date.day)\n",
    "date_path = '%s/%02d/%02d' % (start_Date.year, start_Date.month, start_Date.day)\n",
    "    \n",
    "#middle_path = '%s/EO_Data/Sentinel1/Raw'%pa_name['value']\n",
    "middle_path = '%s/EO_Data/Sentinel1/Raw'%input_pa_name\n",
    "        \n",
    "ftp_remote_path = os.path.join(input_ftp_server_address, date_path)\n",
    "output_name = name\n",
    "download_URL = '%s/%s' %(ftp_remote_path, output_name)"
   ]
  },
  {
   "cell_type": "code",
   "execution_count": 177,
   "metadata": {
    "collapsed": true
   },
   "outputs": [],
   "source": [
    "def set_dates(start_date,end_date):\n",
    "    \n",
    "    iso_metadata.set_start_date(start_date)\n",
    "    iso_metadata.set_end_date(end_date)"
   ]
  },
  {
   "cell_type": "code",
   "execution_count": 178,
   "metadata": {
    "collapsed": true
   },
   "outputs": [],
   "source": [
    "def set_info(short_name, title, abstract):\n",
    "    \n",
    "    iso_metadata.set_identifier(short_name)\n",
    "    iso_metadata.set_title(title)\n",
    "    iso_metadata.set_abstract(abstract)"
   ]
  },
  {
   "cell_type": "code",
   "execution_count": 179,
   "metadata": {
    "collapsed": true
   },
   "outputs": [],
   "source": [
    "def set_geo(wkt,height,width):\n",
    "       \n",
    "    iso_metadata.set_col_size(height)\n",
    "    iso_metadata.set_row_size(width)\n",
    "    \n",
    "    #POLYGON((-26.4804 33.505,-26.7143 32.3182,-24.1248 32.0496,-23.8554 33.2363,-26.4804 33.505))\n",
    "    polygon = loads(wkt)\n",
    "    \n",
    "    min_x,min_y,max_x,max_y = polygon.bounds\n",
    "    \n",
    "    lr_x,lry,ul_x,ul_y = polygon.bounds\n",
    "    \n",
    "    nw_corner = '%s %s' % (str(min_x), str(max_y))\n",
    "\n",
    "    iso_metadata.set_nw_corner(nw_corner)\n",
    "\n",
    "    se_corner = '%s %s' % (str(max_x), str(min_y))\n",
    "\n",
    "    iso_metadata.set_se_corner(se_corner)\n",
    "    \n",
    "    iso_metadata.set_min_lon(str(min_x))\n",
    "\n",
    "    iso_metadata.set_min_lat(str(min_y))\n",
    "    \n",
    "    iso_metadata.set_max_lon(str(max_x))\n",
    "\n",
    "    iso_metadata.set_max_lat(str(max_y))\n"
   ]
  },
  {
   "cell_type": "code",
   "execution_count": 180,
   "metadata": {
    "collapsed": false
   },
   "outputs": [],
   "source": [
    "iso_metadata = ISOMetadata.ISOMetadata()\n",
    "iso_metadata.set_organisation('CNR')\n",
    "iso_metadata.set_contact('info@terradue.com')\n",
    "iso_metadata.set_date(metadata_date)\n",
    "iso_metadata.set_creation_date(creation_date)\n",
    "iso_metadata.set_data_format('SAFE')\n",
    "iso_metadata.set_data_type('CInt16')\n",
    "#iso_metadata.set_pa(pa_name['value'])\n",
    "iso_metadata.set_pa(input_pa_name)\n",
    "iso_metadata.set_responsible_party('CNR')\n",
    "iso_metadata.set_onlineResource(download_URL)\n",
    "#iso_metadata.set_pa('Area covering %s PA' %pa_name['value'])\n",
    "iso_metadata.set_pa('Area covering %s PA' %input_pa_name)"
   ]
  },
  {
   "cell_type": "markdown",
   "metadata": {},
   "source": [
    "### Writing General XML"
   ]
  },
  {
   "cell_type": "code",
   "execution_count": 181,
   "metadata": {
    "collapsed": false
   },
   "outputs": [],
   "source": [
    "set_dates(start_date,end_date)\n",
    "    \n",
    "short_name = name\n",
    "title = 'Sentinel-1 SAR Standard L1 %s Product %s ' % (prod_type, name)\n",
    "#abstract = 'Sentinel-1 SAR Standard L1 %s Product covering %s ' % (prod_type, pa_name['value'])\n",
    "abstract = 'Sentinel-1 SAR Standard L1 %s Product covering %s ' % (prod_type, input_pa_name)\n",
    "        \n",
    "set_info(short_name, title, abstract)\n",
    "set_geo(input_identifier_wkt, str(height).decode(\"utf-8\"), str(width).decode(\"utf-8\"))\n",
    "\n",
    "iso_metadata.write(name + '.xml')\n"
   ]
  },
  {
   "cell_type": "markdown",
   "metadata": {},
   "source": [
    "### Moving the original zip archive into the runtime dir"
   ]
  },
  {
   "cell_type": "code",
   "execution_count": null,
   "metadata": {
    "collapsed": true
   },
   "outputs": [],
   "source": [
    "shutil.move('%s/%s.zip' % (data_path,input_identifier),'./%s.zip' %input_identifier)"
   ]
  }
 ],
 "metadata": {
  "kernelspec": {
   "display_name": "Python 2",
   "language": "python",
   "name": "python2"
  },
  "language_info": {
   "codemirror_mode": {
    "name": "ipython",
    "version": 2
   },
   "file_extension": ".py",
   "mimetype": "text/x-python",
   "name": "python",
   "nbconvert_exporter": "python",
   "pygments_lexer": "ipython2",
   "version": "2.7.12"
  }
 },
 "nbformat": 4,
 "nbformat_minor": 2
}
